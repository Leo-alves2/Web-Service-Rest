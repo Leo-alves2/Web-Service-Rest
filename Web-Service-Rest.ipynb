{
 "cells": [
  {
   "cell_type": "markdown",
   "id": "57e4537d",
   "metadata": {},
   "source": [
    "# Projeto Web Service - REST E JSON"
   ]
  },
  {
   "cell_type": "raw",
   "id": "cbb81947",
   "metadata": {},
   "source": [
    "Vou utilizar a biblioteca Requests\n",
    "\n",
    "Requests é uma biblioteca HTTP elegante e simples para Python, construída para seres humanos.\n",
    "\n",
    "Requests permite enviar solicitações HTTP / 1.1 com extrema facilidade. Não há necessidade de adicionar manualmente strings de consulta a seus URLs ou de codificar em forma seus dados POST. O pool de conexão Keep-alive e HTTP é 100% automático, graças ao urllib3 \n",
    "\n",
    "Mais informação - https://docs.python-requests.org/en/master/"
   ]
  },
  {
   "cell_type": "raw",
   "id": "d542d48c",
   "metadata": {},
   "source": [
    "Instalando a biblioteca"
   ]
  },
  {
   "cell_type": "code",
   "execution_count": 1,
   "id": "eefe3667",
   "metadata": {},
   "outputs": [
    {
     "name": "stdout",
     "output_type": "stream",
     "text": [
      "Requirement already satisfied: requests in c:\\programdata\\anaconda3\\lib\\site-packages (2.25.1)\n",
      "Requirement already satisfied: urllib3<1.27,>=1.21.1 in c:\\programdata\\anaconda3\\lib\\site-packages (from requests) (1.26.4)\n",
      "Requirement already satisfied: idna<3,>=2.5 in c:\\programdata\\anaconda3\\lib\\site-packages (from requests) (2.10)\n",
      "Requirement already satisfied: chardet<5,>=3.0.2 in c:\\programdata\\anaconda3\\lib\\site-packages (from requests) (4.0.0)\n",
      "Requirement already satisfied: certifi>=2017.4.17 in c:\\programdata\\anaconda3\\lib\\site-packages (from requests) (2020.12.5)\n",
      "Note: you may need to restart the kernel to use updated packages.\n"
     ]
    }
   ],
   "source": [
    "pip install requests"
   ]
  },
  {
   "cell_type": "code",
   "execution_count": 2,
   "id": "3da13b0c",
   "metadata": {},
   "outputs": [],
   "source": [
    "import requests"
   ]
  },
  {
   "cell_type": "raw",
   "id": "2672e52a",
   "metadata": {},
   "source": [
    "Criando uma variavel para a URL"
   ]
  },
  {
   "cell_type": "code",
   "execution_count": 3,
   "id": "2e71bbb6",
   "metadata": {},
   "outputs": [],
   "source": [
    "url = 'http://dummy.restapiexample.com/api/v1/employees'"
   ]
  },
  {
   "cell_type": "raw",
   "id": "bb1817bc",
   "metadata": {},
   "source": [
    "Precisamos criar um cabeçalho (header) informando que vamos realizar um request e que aceitamos diversos tipos de resposta do endpoint:\n",
    "Endpoint, traduzido literalmente como “ponto de extremidade”, pode ser utilizado na TI para definir pontos de comunicação de acesso a uma aplicação (endpoints de comunicação) ou como parte de uma estrutura de segurança de rede (segurança de rede)"
   ]
  },
  {
   "cell_type": "code",
   "execution_count": 4,
   "id": "4285d7a1",
   "metadata": {},
   "outputs": [],
   "source": [
    "headers = {\n",
    "    'Accept': '*/*',\n",
    "    'User-Agent': 'request',\n",
    "}"
   ]
  },
  {
   "cell_type": "raw",
   "id": "d16177c0",
   "metadata": {},
   "source": [
    "Agora, precisamos realizar essa busca por todos os empregados utilizando a biblioteca requests e sua respectiva rota com a linha de código requests.get(url, headers=headers).\n",
    "\n",
    "Isso significa que nossa biblioteca vai chamar uma função do verbo get informando a url que guarda nossa rota e o cabeçalho. Podemos guardar essa informação em uma variável para uso posterior (vou chamá-la de resposta):"
   ]
  },
  {
   "cell_type": "code",
   "execution_count": 5,
   "id": "9c38d76f",
   "metadata": {},
   "outputs": [],
   "source": [
    "resposta = requests.get(url,headers=headers)"
   ]
  },
  {
   "cell_type": "raw",
   "id": "e841f94a",
   "metadata": {},
   "source": [
    "Verificando o resultado"
   ]
  },
  {
   "cell_type": "code",
   "execution_count": 7,
   "id": "5ed6b0e2",
   "metadata": {},
   "outputs": [
    {
     "name": "stdout",
     "output_type": "stream",
     "text": [
      "<Response [200]>\n"
     ]
    }
   ],
   "source": [
    "print(resposta)"
   ]
  },
  {
   "cell_type": "code",
   "execution_count": 9,
   "id": "f164c1cc",
   "metadata": {},
   "outputs": [
    {
     "name": "stdout",
     "output_type": "stream",
     "text": [
      "{\"status\":\"success\",\"data\":[{\"id\":1,\"employee_name\":\"Tiger Nixon\",\"employee_salary\":320800,\"employee_age\":61,\"profile_image\":\"\"},{\"id\":2,\"employee_name\":\"Garrett Winters\",\"employee_salary\":170750,\"employee_age\":63,\"profile_image\":\"\"},{\"id\":3,\"employee_name\":\"Ashton Cox\",\"employee_salary\":86000,\"employee_age\":66,\"profile_image\":\"\"},{\"id\":4,\"employee_name\":\"Cedric Kelly\",\"employee_salary\":433060,\"employee_age\":22,\"profile_image\":\"\"},{\"id\":5,\"employee_name\":\"Airi Satou\",\"employee_salary\":162700,\"employee_age\":33,\"profile_image\":\"\"},{\"id\":6,\"employee_name\":\"Brielle Williamson\",\"employee_salary\":372000,\"employee_age\":61,\"profile_image\":\"\"},{\"id\":7,\"employee_name\":\"Herrod Chandler\",\"employee_salary\":137500,\"employee_age\":59,\"profile_image\":\"\"},{\"id\":8,\"employee_name\":\"Rhona Davidson\",\"employee_salary\":327900,\"employee_age\":55,\"profile_image\":\"\"},{\"id\":9,\"employee_name\":\"Colleen Hurst\",\"employee_salary\":205500,\"employee_age\":39,\"profile_image\":\"\"},{\"id\":10,\"employee_name\":\"Sonya Frost\",\"employee_salary\":103600,\"employee_age\":23,\"profile_image\":\"\"},{\"id\":11,\"employee_name\":\"Jena Gaines\",\"employee_salary\":90560,\"employee_age\":30,\"profile_image\":\"\"},{\"id\":12,\"employee_name\":\"Quinn Flynn\",\"employee_salary\":342000,\"employee_age\":22,\"profile_image\":\"\"},{\"id\":13,\"employee_name\":\"Charde Marshall\",\"employee_salary\":470600,\"employee_age\":36,\"profile_image\":\"\"},{\"id\":14,\"employee_name\":\"Haley Kennedy\",\"employee_salary\":313500,\"employee_age\":43,\"profile_image\":\"\"},{\"id\":15,\"employee_name\":\"Tatyana Fitzpatrick\",\"employee_salary\":385750,\"employee_age\":19,\"profile_image\":\"\"},{\"id\":16,\"employee_name\":\"Michael Silva\",\"employee_salary\":198500,\"employee_age\":66,\"profile_image\":\"\"},{\"id\":17,\"employee_name\":\"Paul Byrd\",\"employee_salary\":725000,\"employee_age\":64,\"profile_image\":\"\"},{\"id\":18,\"employee_name\":\"Gloria Little\",\"employee_salary\":237500,\"employee_age\":59,\"profile_image\":\"\"},{\"id\":19,\"employee_name\":\"Bradley Greer\",\"employee_salary\":132000,\"employee_age\":41,\"profile_image\":\"\"},{\"id\":20,\"employee_name\":\"Dai Rios\",\"employee_salary\":217500,\"employee_age\":35,\"profile_image\":\"\"},{\"id\":21,\"employee_name\":\"Jenette Caldwell\",\"employee_salary\":345000,\"employee_age\":30,\"profile_image\":\"\"},{\"id\":22,\"employee_name\":\"Yuri Berry\",\"employee_salary\":675000,\"employee_age\":40,\"profile_image\":\"\"},{\"id\":23,\"employee_name\":\"Caesar Vance\",\"employee_salary\":106450,\"employee_age\":21,\"profile_image\":\"\"},{\"id\":24,\"employee_name\":\"Doris Wilder\",\"employee_salary\":85600,\"employee_age\":23,\"profile_image\":\"\"}],\"message\":\"Successfully! All records has been fetched.\"}\n"
     ]
    }
   ],
   "source": [
    "print(resposta.text)"
   ]
  },
  {
   "cell_type": "raw",
   "id": "00314e1e",
   "metadata": {},
   "source": [
    "Veja que a resposta conta com um status (sucesso) e lista de usuários (possuindo informações como nome, salário, idade e imagem de perfil) cadastrados naquele instante de tempo da execução do script."
   ]
  }
 ],
 "metadata": {
  "kernelspec": {
   "display_name": "Python 3",
   "language": "python",
   "name": "python3"
  },
  "language_info": {
   "codemirror_mode": {
    "name": "ipython",
    "version": 3
   },
   "file_extension": ".py",
   "mimetype": "text/x-python",
   "name": "python",
   "nbconvert_exporter": "python",
   "pygments_lexer": "ipython3",
   "version": "3.8.8"
  }
 },
 "nbformat": 4,
 "nbformat_minor": 5
}
